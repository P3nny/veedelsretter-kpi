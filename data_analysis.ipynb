{
 "cells": [
  {
   "cell_type": "code",
   "execution_count": 97,
   "metadata": {},
   "outputs": [],
   "source": [
    "import pandas as pd\n",
    "import numpy as np\n",
    "import matplotlib.pyplot as plt\n",
    "%matplotlib inline"
   ]
  },
  {
   "cell_type": "code",
   "execution_count": 98,
   "metadata": {},
   "outputs": [],
   "source": [
    "# load data\n",
    "df = pd.read_json('https://takehomedata.dokku.railslabs.com/companies.json')"
   ]
  },
  {
   "cell_type": "code",
   "execution_count": null,
   "metadata": {},
   "outputs": [],
   "source": [
    "# Ideas\n",
    "- Get lat / long for location and map where most of the locations are\n",
    "- "
   ]
  },
  {
   "cell_type": "code",
   "execution_count": 122,
   "metadata": {},
   "outputs": [
    {
     "data": {
      "text/html": [
       "<div>\n",
       "<style scoped>\n",
       "    .dataframe tbody tr th:only-of-type {\n",
       "        vertical-align: middle;\n",
       "    }\n",
       "\n",
       "    .dataframe tbody tr th {\n",
       "        vertical-align: top;\n",
       "    }\n",
       "\n",
       "    .dataframe thead th {\n",
       "        text-align: right;\n",
       "    }\n",
       "</style>\n",
       "<table border=\"1\" class=\"dataframe\">\n",
       "  <thead>\n",
       "    <tr style=\"text-align: right;\">\n",
       "      <th></th>\n",
       "      <th>index</th>\n",
       "      <th>approved_at</th>\n",
       "      <th>name</th>\n",
       "      <th>redeemed_voucher_count</th>\n",
       "      <th>voucher_count</th>\n",
       "      <th>amount</th>\n",
       "      <th>soli</th>\n",
       "      <th>orders_count</th>\n",
       "      <th>voucher_ratio</th>\n",
       "    </tr>\n",
       "  </thead>\n",
       "  <tbody>\n",
       "    <tr>\n",
       "      <th>9</th>\n",
       "      <td>15</td>\n",
       "      <td>2020-03-27 14:14:19+00:00</td>\n",
       "      <td>Weller, Uhlig and Kinadeter</td>\n",
       "      <td>135.0</td>\n",
       "      <td>154.0</td>\n",
       "      <td>5585.9</td>\n",
       "      <td>285.0</td>\n",
       "      <td>92</td>\n",
       "      <td>88.0</td>\n",
       "    </tr>\n",
       "  </tbody>\n",
       "</table>\n",
       "</div>"
      ],
      "text/plain": [
       "   index               approved_at                         name  \\\n",
       "9     15 2020-03-27 14:14:19+00:00  Weller, Uhlig and Kinadeter   \n",
       "\n",
       "   redeemed_voucher_count  voucher_count  amount   soli  orders_count  \\\n",
       "9                   135.0          154.0  5585.9  285.0            92   \n",
       "\n",
       "   voucher_ratio  \n",
       "9           88.0  "
      ]
     },
     "execution_count": 122,
     "metadata": {},
     "output_type": "execute_result"
    }
   ],
   "source": [
    "df.sample()"
   ]
  },
  {
   "cell_type": "code",
   "execution_count": 99,
   "metadata": {},
   "outputs": [
    {
     "data": {
      "text/plain": [
       "(699, 7)"
      ]
     },
     "execution_count": 99,
     "metadata": {},
     "output_type": "execute_result"
    }
   ],
   "source": [
    "# get df dimension\n",
    "df.shape"
   ]
  },
  {
   "cell_type": "code",
   "execution_count": 100,
   "metadata": {},
   "outputs": [
    {
     "data": {
      "text/plain": [
       "name                                   object\n",
       "redeemed_voucher_count                float64\n",
       "voucher_count                         float64\n",
       "amount                                  int64\n",
       "soli                                    int64\n",
       "orders_count                            int64\n",
       "approved_at               datetime64[ns, UTC]\n",
       "dtype: object"
      ]
     },
     "execution_count": 100,
     "metadata": {},
     "output_type": "execute_result"
    }
   ],
   "source": [
    "# check dtypes\n",
    "df.dtypes"
   ]
  },
  {
   "cell_type": "code",
   "execution_count": 101,
   "metadata": {},
   "outputs": [],
   "source": [
    "# convert cent to euro\n",
    "df.amount = df.amount/100\n",
    "df.soli = df.soli/100"
   ]
  },
  {
   "cell_type": "code",
   "execution_count": 102,
   "metadata": {},
   "outputs": [],
   "source": [
    "# calculate voucher ratio\n",
    "df['voucher_ratio'] = round(df.redeemed_voucher_count / df.voucher_count *100)"
   ]
  },
  {
   "cell_type": "code",
   "execution_count": 103,
   "metadata": {},
   "outputs": [
    {
     "data": {
      "text/html": [
       "<div>\n",
       "<style scoped>\n",
       "    .dataframe tbody tr th:only-of-type {\n",
       "        vertical-align: middle;\n",
       "    }\n",
       "\n",
       "    .dataframe tbody tr th {\n",
       "        vertical-align: top;\n",
       "    }\n",
       "\n",
       "    .dataframe thead th {\n",
       "        text-align: right;\n",
       "    }\n",
       "</style>\n",
       "<table border=\"1\" class=\"dataframe\">\n",
       "  <thead>\n",
       "    <tr style=\"text-align: right;\">\n",
       "      <th></th>\n",
       "      <th>name</th>\n",
       "      <th>redeemed_voucher_count</th>\n",
       "      <th>voucher_count</th>\n",
       "      <th>amount</th>\n",
       "      <th>soli</th>\n",
       "      <th>orders_count</th>\n",
       "      <th>approved_at</th>\n",
       "      <th>voucher_ratio</th>\n",
       "    </tr>\n",
       "  </thead>\n",
       "  <tbody>\n",
       "    <tr>\n",
       "      <th>407</th>\n",
       "      <td>Meyer - Abraham</td>\n",
       "      <td>4.0</td>\n",
       "      <td>4.0</td>\n",
       "      <td>200.0</td>\n",
       "      <td>0.0</td>\n",
       "      <td>1</td>\n",
       "      <td>2020-04-12 11:37:32+00:00</td>\n",
       "      <td>100.0</td>\n",
       "    </tr>\n",
       "  </tbody>\n",
       "</table>\n",
       "</div>"
      ],
      "text/plain": [
       "                name  redeemed_voucher_count  voucher_count  amount  soli  \\\n",
       "407  Meyer - Abraham                     4.0            4.0   200.0   0.0   \n",
       "\n",
       "     orders_count               approved_at  voucher_ratio  \n",
       "407             1 2020-04-12 11:37:32+00:00          100.0  "
      ]
     },
     "execution_count": 103,
     "metadata": {},
     "output_type": "execute_result"
    }
   ],
   "source": [
    "df.sample()"
   ]
  },
  {
   "cell_type": "markdown",
   "metadata": {},
   "source": [
    "### Admin-Kennzahlen"
   ]
  },
  {
   "cell_type": "code",
   "execution_count": 104,
   "metadata": {},
   "outputs": [
    {
     "data": {
      "text/plain": [
       "23776.0"
      ]
     },
     "execution_count": 104,
     "metadata": {},
     "output_type": "execute_result"
    }
   ],
   "source": [
    "df.voucher_count.sum()"
   ]
  },
  {
   "cell_type": "code",
   "execution_count": 105,
   "metadata": {},
   "outputs": [
    {
     "data": {
      "text/plain": [
       "3893.0"
      ]
     },
     "execution_count": 105,
     "metadata": {},
     "output_type": "execute_result"
    }
   ],
   "source": [
    "df.redeemed_voucher_count.sum()"
   ]
  },
  {
   "cell_type": "code",
   "execution_count": 106,
   "metadata": {},
   "outputs": [
    {
     "data": {
      "text/plain": [
       "555939"
      ]
     },
     "execution_count": 106,
     "metadata": {},
     "output_type": "execute_result"
    }
   ],
   "source": [
    "round(df.amount.sum())"
   ]
  },
  {
   "cell_type": "code",
   "execution_count": 107,
   "metadata": {},
   "outputs": [
    {
     "data": {
      "text/plain": [
       "92574"
      ]
     },
     "execution_count": 107,
     "metadata": {},
     "output_type": "execute_result"
    }
   ],
   "source": [
    "round(df.soli.sum())"
   ]
  },
  {
   "cell_type": "code",
   "execution_count": 108,
   "metadata": {},
   "outputs": [],
   "source": [
    "df = df.set_index('approved_at')"
   ]
  },
  {
   "cell_type": "code",
   "execution_count": 109,
   "metadata": {},
   "outputs": [
    {
     "data": {
      "text/html": [
       "<div>\n",
       "<style scoped>\n",
       "    .dataframe tbody tr th:only-of-type {\n",
       "        vertical-align: middle;\n",
       "    }\n",
       "\n",
       "    .dataframe tbody tr th {\n",
       "        vertical-align: top;\n",
       "    }\n",
       "\n",
       "    .dataframe thead th {\n",
       "        text-align: right;\n",
       "    }\n",
       "</style>\n",
       "<table border=\"1\" class=\"dataframe\">\n",
       "  <thead>\n",
       "    <tr style=\"text-align: right;\">\n",
       "      <th></th>\n",
       "      <th>redeemed_voucher_count</th>\n",
       "      <th>voucher_count</th>\n",
       "      <th>amount</th>\n",
       "      <th>soli</th>\n",
       "      <th>orders_count</th>\n",
       "      <th>voucher_ratio</th>\n",
       "    </tr>\n",
       "    <tr>\n",
       "      <th>approved_at</th>\n",
       "      <th></th>\n",
       "      <th></th>\n",
       "      <th></th>\n",
       "      <th></th>\n",
       "      <th></th>\n",
       "      <th></th>\n",
       "    </tr>\n",
       "  </thead>\n",
       "  <tbody>\n",
       "    <tr>\n",
       "      <th>2020-03-31 00:00:00+00:00</th>\n",
       "      <td>3306.0</td>\n",
       "      <td>18670.0</td>\n",
       "      <td>426108.10</td>\n",
       "      <td>64827.88</td>\n",
       "      <td>10991</td>\n",
       "      <td>7509.0</td>\n",
       "    </tr>\n",
       "    <tr>\n",
       "      <th>2020-04-30 00:00:00+00:00</th>\n",
       "      <td>587.0</td>\n",
       "      <td>4819.0</td>\n",
       "      <td>121484.42</td>\n",
       "      <td>24943.77</td>\n",
       "      <td>2911</td>\n",
       "      <td>3340.0</td>\n",
       "    </tr>\n",
       "    <tr>\n",
       "      <th>2020-05-31 00:00:00+00:00</th>\n",
       "      <td>0.0</td>\n",
       "      <td>283.0</td>\n",
       "      <td>7836.30</td>\n",
       "      <td>2552.30</td>\n",
       "      <td>165</td>\n",
       "      <td>0.0</td>\n",
       "    </tr>\n",
       "    <tr>\n",
       "      <th>2020-06-30 00:00:00+00:00</th>\n",
       "      <td>0.0</td>\n",
       "      <td>4.0</td>\n",
       "      <td>510.00</td>\n",
       "      <td>250.00</td>\n",
       "      <td>5</td>\n",
       "      <td>0.0</td>\n",
       "    </tr>\n",
       "  </tbody>\n",
       "</table>\n",
       "</div>"
      ],
      "text/plain": [
       "                           redeemed_voucher_count  voucher_count     amount  \\\n",
       "approved_at                                                                   \n",
       "2020-03-31 00:00:00+00:00                  3306.0        18670.0  426108.10   \n",
       "2020-04-30 00:00:00+00:00                   587.0         4819.0  121484.42   \n",
       "2020-05-31 00:00:00+00:00                     0.0          283.0    7836.30   \n",
       "2020-06-30 00:00:00+00:00                     0.0            4.0     510.00   \n",
       "\n",
       "                               soli  orders_count  voucher_ratio  \n",
       "approved_at                                                       \n",
       "2020-03-31 00:00:00+00:00  64827.88         10991         7509.0  \n",
       "2020-04-30 00:00:00+00:00  24943.77          2911         3340.0  \n",
       "2020-05-31 00:00:00+00:00   2552.30           165            0.0  \n",
       "2020-06-30 00:00:00+00:00    250.00             5            0.0  "
      ]
     },
     "execution_count": 109,
     "metadata": {},
     "output_type": "execute_result"
    }
   ],
   "source": [
    "# Group data by month\n",
    "g = df.groupby(pd.Grouper(freq=\"M\"))\n",
    "g.sum()"
   ]
  },
  {
   "cell_type": "code",
   "execution_count": 110,
   "metadata": {},
   "outputs": [
    {
     "data": {
      "text/html": [
       "<div>\n",
       "<style scoped>\n",
       "    .dataframe tbody tr th:only-of-type {\n",
       "        vertical-align: middle;\n",
       "    }\n",
       "\n",
       "    .dataframe tbody tr th {\n",
       "        vertical-align: top;\n",
       "    }\n",
       "\n",
       "    .dataframe thead th {\n",
       "        text-align: right;\n",
       "    }\n",
       "</style>\n",
       "<table border=\"1\" class=\"dataframe\">\n",
       "  <thead>\n",
       "    <tr style=\"text-align: right;\">\n",
       "      <th></th>\n",
       "      <th>name</th>\n",
       "      <th>redeemed_voucher_count</th>\n",
       "      <th>voucher_count</th>\n",
       "      <th>amount</th>\n",
       "      <th>soli</th>\n",
       "      <th>orders_count</th>\n",
       "      <th>voucher_ratio</th>\n",
       "    </tr>\n",
       "    <tr>\n",
       "      <th>approved_at</th>\n",
       "      <th></th>\n",
       "      <th></th>\n",
       "      <th></th>\n",
       "      <th></th>\n",
       "      <th></th>\n",
       "      <th></th>\n",
       "      <th></th>\n",
       "    </tr>\n",
       "  </thead>\n",
       "  <tbody>\n",
       "    <tr>\n",
       "      <th>2020-03-24 10:15:54+00:00</th>\n",
       "      <td>Heiser OHG</td>\n",
       "      <td>19.0</td>\n",
       "      <td>270.0</td>\n",
       "      <td>18957.0</td>\n",
       "      <td>7987.0</td>\n",
       "      <td>238</td>\n",
       "      <td>7.0</td>\n",
       "    </tr>\n",
       "    <tr>\n",
       "      <th>2020-03-28 19:50:34+00:00</th>\n",
       "      <td>Ullmann GmbH &amp; Co. KG</td>\n",
       "      <td>0.0</td>\n",
       "      <td>338.0</td>\n",
       "      <td>7977.0</td>\n",
       "      <td>2784.0</td>\n",
       "      <td>175</td>\n",
       "      <td>0.0</td>\n",
       "    </tr>\n",
       "    <tr>\n",
       "      <th>2020-03-26 09:52:32+00:00</th>\n",
       "      <td>Nodler - Cotthardt</td>\n",
       "      <td>109.0</td>\n",
       "      <td>465.0</td>\n",
       "      <td>16379.1</td>\n",
       "      <td>2539.1</td>\n",
       "      <td>227</td>\n",
       "      <td>23.0</td>\n",
       "    </tr>\n",
       "    <tr>\n",
       "      <th>2020-04-03 13:10:27+00:00</th>\n",
       "      <td>Geyer - Kobs</td>\n",
       "      <td>12.0</td>\n",
       "      <td>389.0</td>\n",
       "      <td>4891.0</td>\n",
       "      <td>2168.0</td>\n",
       "      <td>154</td>\n",
       "      <td>3.0</td>\n",
       "    </tr>\n",
       "    <tr>\n",
       "      <th>2020-05-03 16:42:23+00:00</th>\n",
       "      <td>Pöche - Vogt</td>\n",
       "      <td>0.0</td>\n",
       "      <td>161.0</td>\n",
       "      <td>4718.7</td>\n",
       "      <td>1998.7</td>\n",
       "      <td>109</td>\n",
       "      <td>0.0</td>\n",
       "    </tr>\n",
       "  </tbody>\n",
       "</table>\n",
       "</div>"
      ],
      "text/plain": [
       "                                            name  redeemed_voucher_count  \\\n",
       "approved_at                                                                \n",
       "2020-03-24 10:15:54+00:00             Heiser OHG                    19.0   \n",
       "2020-03-28 19:50:34+00:00  Ullmann GmbH & Co. KG                     0.0   \n",
       "2020-03-26 09:52:32+00:00     Nodler - Cotthardt                   109.0   \n",
       "2020-04-03 13:10:27+00:00           Geyer - Kobs                    12.0   \n",
       "2020-05-03 16:42:23+00:00           Pöche - Vogt                     0.0   \n",
       "\n",
       "                           voucher_count   amount    soli  orders_count  \\\n",
       "approved_at                                                               \n",
       "2020-03-24 10:15:54+00:00          270.0  18957.0  7987.0           238   \n",
       "2020-03-28 19:50:34+00:00          338.0   7977.0  2784.0           175   \n",
       "2020-03-26 09:52:32+00:00          465.0  16379.1  2539.1           227   \n",
       "2020-04-03 13:10:27+00:00          389.0   4891.0  2168.0           154   \n",
       "2020-05-03 16:42:23+00:00          161.0   4718.7  1998.7           109   \n",
       "\n",
       "                           voucher_ratio  \n",
       "approved_at                               \n",
       "2020-03-24 10:15:54+00:00            7.0  \n",
       "2020-03-28 19:50:34+00:00            0.0  \n",
       "2020-03-26 09:52:32+00:00           23.0  \n",
       "2020-04-03 13:10:27+00:00            3.0  \n",
       "2020-05-03 16:42:23+00:00            0.0  "
      ]
     },
     "execution_count": 110,
     "metadata": {},
     "output_type": "execute_result"
    }
   ],
   "source": [
    "# top 10 soli\n",
    "df.sort_values(by='soli', ascending=False).head()"
   ]
  },
  {
   "cell_type": "code",
   "execution_count": 111,
   "metadata": {},
   "outputs": [
    {
     "data": {
      "text/plain": [
       "(12, 7)"
      ]
     },
     "execution_count": 111,
     "metadata": {},
     "output_type": "execute_result"
    }
   ],
   "source": [
    "# Who got more than 1k soli?\n",
    "df[df.soli > 1000].shape"
   ]
  },
  {
   "cell_type": "code",
   "execution_count": 119,
   "metadata": {},
   "outputs": [
    {
     "data": {
      "text/html": [
       "<div>\n",
       "<style scoped>\n",
       "    .dataframe tbody tr th:only-of-type {\n",
       "        vertical-align: middle;\n",
       "    }\n",
       "\n",
       "    .dataframe tbody tr th {\n",
       "        vertical-align: top;\n",
       "    }\n",
       "\n",
       "    .dataframe thead th {\n",
       "        text-align: right;\n",
       "    }\n",
       "</style>\n",
       "<table border=\"1\" class=\"dataframe\">\n",
       "  <thead>\n",
       "    <tr style=\"text-align: right;\">\n",
       "      <th></th>\n",
       "      <th>approved_at</th>\n",
       "      <th>name</th>\n",
       "      <th>redeemed_voucher_count</th>\n",
       "      <th>voucher_count</th>\n",
       "      <th>amount</th>\n",
       "      <th>soli</th>\n",
       "      <th>orders_count</th>\n",
       "      <th>voucher_ratio</th>\n",
       "    </tr>\n",
       "  </thead>\n",
       "  <tbody>\n",
       "    <tr>\n",
       "      <th>186</th>\n",
       "      <td>2020-04-02 09:54:28+00:00</td>\n",
       "      <td>Reif AG</td>\n",
       "      <td>26.0</td>\n",
       "      <td>26.0</td>\n",
       "      <td>760.00</td>\n",
       "      <td>20.00</td>\n",
       "      <td>6</td>\n",
       "      <td>100.0</td>\n",
       "    </tr>\n",
       "    <tr>\n",
       "      <th>148</th>\n",
       "      <td>2020-03-31 11:54:04+00:00</td>\n",
       "      <td>Blume Gruppe</td>\n",
       "      <td>36.0</td>\n",
       "      <td>38.0</td>\n",
       "      <td>1015.00</td>\n",
       "      <td>205.00</td>\n",
       "      <td>21</td>\n",
       "      <td>95.0</td>\n",
       "    </tr>\n",
       "    <tr>\n",
       "      <th>406</th>\n",
       "      <td>2020-03-26 13:36:52+00:00</td>\n",
       "      <td>Kahles, Knippel and Tremmel</td>\n",
       "      <td>41.0</td>\n",
       "      <td>46.0</td>\n",
       "      <td>205.00</td>\n",
       "      <td>21.00</td>\n",
       "      <td>9</td>\n",
       "      <td>89.0</td>\n",
       "    </tr>\n",
       "    <tr>\n",
       "      <th>15</th>\n",
       "      <td>2020-03-27 14:14:19+00:00</td>\n",
       "      <td>Weller, Uhlig and Kinadeter</td>\n",
       "      <td>135.0</td>\n",
       "      <td>154.0</td>\n",
       "      <td>5585.90</td>\n",
       "      <td>285.00</td>\n",
       "      <td>92</td>\n",
       "      <td>88.0</td>\n",
       "    </tr>\n",
       "    <tr>\n",
       "      <th>40</th>\n",
       "      <td>2020-03-30 19:26:46+00:00</td>\n",
       "      <td>Rheder AG</td>\n",
       "      <td>33.0</td>\n",
       "      <td>39.0</td>\n",
       "      <td>2932.00</td>\n",
       "      <td>107.00</td>\n",
       "      <td>36</td>\n",
       "      <td>85.0</td>\n",
       "    </tr>\n",
       "    <tr>\n",
       "      <th>190</th>\n",
       "      <td>2020-04-06 14:19:58+00:00</td>\n",
       "      <td>Lepthin - Malucha</td>\n",
       "      <td>15.0</td>\n",
       "      <td>19.0</td>\n",
       "      <td>755.00</td>\n",
       "      <td>65.00</td>\n",
       "      <td>12</td>\n",
       "      <td>79.0</td>\n",
       "    </tr>\n",
       "    <tr>\n",
       "      <th>97</th>\n",
       "      <td>2020-04-28 13:36:30+00:00</td>\n",
       "      <td>Horak Gruppe</td>\n",
       "      <td>44.0</td>\n",
       "      <td>58.0</td>\n",
       "      <td>1416.00</td>\n",
       "      <td>31.40</td>\n",
       "      <td>31</td>\n",
       "      <td>76.0</td>\n",
       "    </tr>\n",
       "    <tr>\n",
       "      <th>276</th>\n",
       "      <td>2020-04-14 07:15:34+00:00</td>\n",
       "      <td>Slotta, Steffny and Tittman</td>\n",
       "      <td>41.0</td>\n",
       "      <td>55.0</td>\n",
       "      <td>437.00</td>\n",
       "      <td>74.00</td>\n",
       "      <td>15</td>\n",
       "      <td>75.0</td>\n",
       "    </tr>\n",
       "    <tr>\n",
       "      <th>341</th>\n",
       "      <td>2020-03-25 11:42:02+00:00</td>\n",
       "      <td>Paesler, Wyludda and Hasler</td>\n",
       "      <td>12.0</td>\n",
       "      <td>16.0</td>\n",
       "      <td>310.00</td>\n",
       "      <td>10.00</td>\n",
       "      <td>10</td>\n",
       "      <td>75.0</td>\n",
       "    </tr>\n",
       "    <tr>\n",
       "      <th>31</th>\n",
       "      <td>2020-03-26 11:21:26+00:00</td>\n",
       "      <td>Brenner, Zender and Lutz</td>\n",
       "      <td>58.0</td>\n",
       "      <td>82.0</td>\n",
       "      <td>3478.01</td>\n",
       "      <td>203.01</td>\n",
       "      <td>68</td>\n",
       "      <td>71.0</td>\n",
       "    </tr>\n",
       "  </tbody>\n",
       "</table>\n",
       "</div>"
      ],
      "text/plain": [
       "                  approved_at                         name  \\\n",
       "186 2020-04-02 09:54:28+00:00                      Reif AG   \n",
       "148 2020-03-31 11:54:04+00:00                 Blume Gruppe   \n",
       "406 2020-03-26 13:36:52+00:00  Kahles, Knippel and Tremmel   \n",
       "15  2020-03-27 14:14:19+00:00  Weller, Uhlig and Kinadeter   \n",
       "40  2020-03-30 19:26:46+00:00                    Rheder AG   \n",
       "190 2020-04-06 14:19:58+00:00            Lepthin - Malucha   \n",
       "97  2020-04-28 13:36:30+00:00                 Horak Gruppe   \n",
       "276 2020-04-14 07:15:34+00:00  Slotta, Steffny and Tittman   \n",
       "341 2020-03-25 11:42:02+00:00  Paesler, Wyludda and Hasler   \n",
       "31  2020-03-26 11:21:26+00:00     Brenner, Zender and Lutz   \n",
       "\n",
       "     redeemed_voucher_count  voucher_count   amount    soli  orders_count  \\\n",
       "186                    26.0           26.0   760.00   20.00             6   \n",
       "148                    36.0           38.0  1015.00  205.00            21   \n",
       "406                    41.0           46.0   205.00   21.00             9   \n",
       "15                    135.0          154.0  5585.90  285.00            92   \n",
       "40                     33.0           39.0  2932.00  107.00            36   \n",
       "190                    15.0           19.0   755.00   65.00            12   \n",
       "97                     44.0           58.0  1416.00   31.40            31   \n",
       "276                    41.0           55.0   437.00   74.00            15   \n",
       "341                    12.0           16.0   310.00   10.00            10   \n",
       "31                     58.0           82.0  3478.01  203.01            68   \n",
       "\n",
       "     voucher_ratio  \n",
       "186          100.0  \n",
       "148           95.0  \n",
       "406           89.0  \n",
       "15            88.0  \n",
       "40            85.0  \n",
       "190           79.0  \n",
       "97            76.0  \n",
       "276           75.0  \n",
       "341           75.0  \n",
       "31            71.0  "
      ]
     },
     "execution_count": 119,
     "metadata": {},
     "output_type": "execute_result"
    }
   ],
   "source": [
    "# Who has more than 10 redeemed voucher and best voucher ratio \n",
    "df = df[df.redeemed_voucher_count > 10]\n",
    "df.sort_values(by=['voucher_ratio'], ascending=False).head(10)"
   ]
  },
  {
   "cell_type": "code",
   "execution_count": 120,
   "metadata": {},
   "outputs": [],
   "source": [
    "df = df.reset_index()"
   ]
  },
  {
   "cell_type": "code",
   "execution_count": 115,
   "metadata": {},
   "outputs": [
    {
     "data": {
      "text/plain": [
       "<AxesSubplot:xlabel='approved_at', ylabel='amount'>"
      ]
     },
     "execution_count": 115,
     "metadata": {},
     "output_type": "execute_result"
    },
    {
     "data": {
      "image/png": "[encoded data removed]",
      "text/plain": [
       "<Figure size 432x288 with 1 Axes>"
      ]
     },
     "metadata": {
      "needs_background": "light"
     },
     "output_type": "display_data"
    }
   ],
   "source": [
    "df.plot.scatter(x = 'approved_at', y = 'amount')"
   ]
  },
  {
   "cell_type": "markdown",
   "metadata": {},
   "source": [
    "## Firmen-Infos"
   ]
  },
  {
   "cell_type": "code",
   "execution_count": null,
   "metadata": {},
   "outputs": [],
   "source": [
    "firma = input('Gib eine Firma ein')"
   ]
  },
  {
   "cell_type": "code",
   "execution_count": null,
   "metadata": {},
   "outputs": [],
   "source": [
    "df = df[df.name.str.contains(firma)]"
   ]
  },
  {
   "cell_type": "code",
   "execution_count": null,
   "metadata": {},
   "outputs": [],
   "source": [
    "df"
   ]
  },
  {
   "cell_type": "code",
   "execution_count": null,
   "metadata": {},
   "outputs": [],
   "source": [
    "print(f'{df.name.item()}\\nVerkaufte Gutscheine: {df.voucher_count.item()}\\nEingelöste Gutscheine: {df.redeemed_voucher_count.item()}\\nEinnahmen: {df.amount.item()/100}\\nSpenden: {df.soli.item()/100}\\nBestellungen: {df.orders_count.item()}')"
   ]
  },
  {
   "cell_type": "code",
   "execution_count": null,
   "metadata": {},
   "outputs": [],
   "source": []
  }
 ],
 "metadata": {
  "kernelspec": {
   "display_name": "Python 3",
   "language": "python",
   "name": "python3"
  },
  "language_info": {
   "codemirror_mode": {
    "name": "ipython",
    "version": 3
   },
   "file_extension": ".py",
   "mimetype": "text/x-python",
   "name": "python",
   "nbconvert_exporter": "python",
   "pygments_lexer": "ipython3",
   "version": "3.6.9"
  }
 },
 "nbformat": 4,
 "nbformat_minor": 4
}
